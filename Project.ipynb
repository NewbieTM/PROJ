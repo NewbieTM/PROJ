{
  "nbformat": 4,
  "nbformat_minor": 0,
  "metadata": {
    "colab": {
      "provenance": []
    },
    "kernelspec": {
      "name": "python3",
      "display_name": "Python 3"
    },
    "language_info": {
      "name": "python"
    }
  },
  "cells": [
    {
      "cell_type": "code",
      "source": [
        "%pip install numpy\n",
        "%pip install matplotlib\n",
        "%pip install librosa\n",
        "%pip install pandas"
      ],
      "metadata": {
        "id": "9E3uQu2ny8xL"
      },
      "execution_count": null,
      "outputs": []
    },
    {
      "cell_type": "code",
      "source": [
        "import numpy as np\n",
        "import matplotlib.pyplot as plt\n",
        "import pandas as pd\n",
        "import librosa\n",
        "import math"
      ],
      "metadata": {
        "id": "unXwX_Is9J_H"
      },
      "execution_count": 82,
      "outputs": []
    },
    {
      "cell_type": "code",
      "source": [
        "D = librosa.stft(y)  # STFT of y\n",
        "S_db = librosa.amplitude_to_db(np.abs(D), ref=np.max)\n",
        "\n",
        "fig, ax = plt.subplots()\n",
        "img = librosa.display.specshow(S_db, ax=ax)\n",
        "fig.colorbar(img, ax=ax)"
      ],
      "metadata": {
        "id": "0zEdi4yO5xEo"
      },
      "execution_count": null,
      "outputs": []
    },
    {
      "cell_type": "code",
      "source": [
        "y, sr = librosa.load('Colorful-Flowerschosic.com.mp3')"
      ],
      "metadata": {
        "id": "4hD9bimq9pPI"
      },
      "execution_count": 98,
      "outputs": []
    },
    {
      "cell_type": "code",
      "source": [
        "y, sr = librosa.load('/content/Дворы (320kbps).mp3')"
      ],
      "metadata": {
        "id": "JazaebNX-IYY"
      },
      "execution_count": 88,
      "outputs": []
    },
    {
      "cell_type": "code",
      "source": [
        "y, sr = librosa.load('Rammstein - Sonne (Official Video) (320kbps).mp3')"
      ],
      "metadata": {
        "id": "fR1V2OZkAE7L"
      },
      "execution_count": 101,
      "outputs": []
    },
    {
      "cell_type": "code",
      "source": [
        "y, sr = librosa.load('/content/FIFTY FIFTY - Cupid (Sped Up) (Twin Version) (Lyrics) (320kbps).mp3')"
      ],
      "metadata": {
        "id": "i4U24P5zAyMq"
      },
      "execution_count": 94,
      "outputs": []
    },
    {
      "cell_type": "code",
      "source": [
        "m = librosa.effects.harmonic(y)"
      ],
      "metadata": {
        "id": "pUPnh4xHCYzk"
      },
      "execution_count": 107,
      "outputs": []
    },
    {
      "cell_type": "code",
      "source": [
        "tempo, beat_frames = librosa.beat.beat_track(y=y, sr=sr)"
      ],
      "metadata": {
        "id": "INrFDZTi5xJx"
      },
      "execution_count": 63,
      "outputs": []
    },
    {
      "cell_type": "code",
      "source": [
        "tempo"
      ],
      "metadata": {
        "colab": {
          "base_uri": "https://localhost:8080/"
        },
        "id": "IEEWIl0U-Dvy",
        "outputId": "14d728cf-68ad-4bf8-ddf7-7fe269f4753d"
      },
      "execution_count": 61,
      "outputs": [
        {
          "output_type": "execute_result",
          "data": {
            "text/plain": [
              "92.28515625"
            ]
          },
          "metadata": {},
          "execution_count": 61
        }
      ]
    },
    {
      "cell_type": "code",
      "source": [
        "tempo"
      ],
      "metadata": {
        "colab": {
          "base_uri": "https://localhost:8080/"
        },
        "id": "kdTqdzQU-F1y",
        "outputId": "a99267f2-1e9d-4af2-c1d3-53da0a611518"
      },
      "execution_count": 64,
      "outputs": [
        {
          "output_type": "execute_result",
          "data": {
            "text/plain": [
              "143.5546875"
            ]
          },
          "metadata": {},
          "execution_count": 64
        }
      ]
    },
    {
      "cell_type": "code",
      "source": [
        "#alltempos = [1,2,3,4]\n",
        "data = pd.DataFrame({'tempoes': [1,2,3,4]})"
      ],
      "metadata": {
        "id": "4ooGF6Tc5xMQ"
      },
      "execution_count": 20,
      "outputs": []
    },
    {
      "cell_type": "code",
      "source": [
        "data.head()"
      ],
      "metadata": {
        "colab": {
          "base_uri": "https://localhost:8080/",
          "height": 175
        },
        "id": "K3PYP_cj5xOx",
        "outputId": "ffba326f-34dd-4337-d3c1-6d7bed41269a"
      },
      "execution_count": 17,
      "outputs": [
        {
          "output_type": "execute_result",
          "data": {
            "text/plain": [
              "   tempo\n",
              "0      1\n",
              "1      2\n",
              "2      3\n",
              "3      4"
            ],
            "text/html": [
              "\n",
              "  <div id=\"df-c4bc6852-7941-4e67-bd1c-c4e795a7ffce\" class=\"colab-df-container\">\n",
              "    <div>\n",
              "<style scoped>\n",
              "    .dataframe tbody tr th:only-of-type {\n",
              "        vertical-align: middle;\n",
              "    }\n",
              "\n",
              "    .dataframe tbody tr th {\n",
              "        vertical-align: top;\n",
              "    }\n",
              "\n",
              "    .dataframe thead th {\n",
              "        text-align: right;\n",
              "    }\n",
              "</style>\n",
              "<table border=\"1\" class=\"dataframe\">\n",
              "  <thead>\n",
              "    <tr style=\"text-align: right;\">\n",
              "      <th></th>\n",
              "      <th>tempo</th>\n",
              "    </tr>\n",
              "  </thead>\n",
              "  <tbody>\n",
              "    <tr>\n",
              "      <th>0</th>\n",
              "      <td>1</td>\n",
              "    </tr>\n",
              "    <tr>\n",
              "      <th>1</th>\n",
              "      <td>2</td>\n",
              "    </tr>\n",
              "    <tr>\n",
              "      <th>2</th>\n",
              "      <td>3</td>\n",
              "    </tr>\n",
              "    <tr>\n",
              "      <th>3</th>\n",
              "      <td>4</td>\n",
              "    </tr>\n",
              "  </tbody>\n",
              "</table>\n",
              "</div>\n",
              "    <div class=\"colab-df-buttons\">\n",
              "\n",
              "  <div class=\"colab-df-container\">\n",
              "    <button class=\"colab-df-convert\" onclick=\"convertToInteractive('df-c4bc6852-7941-4e67-bd1c-c4e795a7ffce')\"\n",
              "            title=\"Convert this dataframe to an interactive table.\"\n",
              "            style=\"display:none;\">\n",
              "\n",
              "  <svg xmlns=\"http://www.w3.org/2000/svg\" height=\"24px\" viewBox=\"0 -960 960 960\">\n",
              "    <path d=\"M120-120v-720h720v720H120Zm60-500h600v-160H180v160Zm220 220h160v-160H400v160Zm0 220h160v-160H400v160ZM180-400h160v-160H180v160Zm440 0h160v-160H620v160ZM180-180h160v-160H180v160Zm440 0h160v-160H620v160Z\"/>\n",
              "  </svg>\n",
              "    </button>\n",
              "\n",
              "  <style>\n",
              "    .colab-df-container {\n",
              "      display:flex;\n",
              "      gap: 12px;\n",
              "    }\n",
              "\n",
              "    .colab-df-convert {\n",
              "      background-color: #E8F0FE;\n",
              "      border: none;\n",
              "      border-radius: 50%;\n",
              "      cursor: pointer;\n",
              "      display: none;\n",
              "      fill: #1967D2;\n",
              "      height: 32px;\n",
              "      padding: 0 0 0 0;\n",
              "      width: 32px;\n",
              "    }\n",
              "\n",
              "    .colab-df-convert:hover {\n",
              "      background-color: #E2EBFA;\n",
              "      box-shadow: 0px 1px 2px rgba(60, 64, 67, 0.3), 0px 1px 3px 1px rgba(60, 64, 67, 0.15);\n",
              "      fill: #174EA6;\n",
              "    }\n",
              "\n",
              "    .colab-df-buttons div {\n",
              "      margin-bottom: 4px;\n",
              "    }\n",
              "\n",
              "    [theme=dark] .colab-df-convert {\n",
              "      background-color: #3B4455;\n",
              "      fill: #D2E3FC;\n",
              "    }\n",
              "\n",
              "    [theme=dark] .colab-df-convert:hover {\n",
              "      background-color: #434B5C;\n",
              "      box-shadow: 0px 1px 3px 1px rgba(0, 0, 0, 0.15);\n",
              "      filter: drop-shadow(0px 1px 2px rgba(0, 0, 0, 0.3));\n",
              "      fill: #FFFFFF;\n",
              "    }\n",
              "  </style>\n",
              "\n",
              "    <script>\n",
              "      const buttonEl =\n",
              "        document.querySelector('#df-c4bc6852-7941-4e67-bd1c-c4e795a7ffce button.colab-df-convert');\n",
              "      buttonEl.style.display =\n",
              "        google.colab.kernel.accessAllowed ? 'block' : 'none';\n",
              "\n",
              "      async function convertToInteractive(key) {\n",
              "        const element = document.querySelector('#df-c4bc6852-7941-4e67-bd1c-c4e795a7ffce');\n",
              "        const dataTable =\n",
              "          await google.colab.kernel.invokeFunction('convertToInteractive',\n",
              "                                                    [key], {});\n",
              "        if (!dataTable) return;\n",
              "\n",
              "        const docLinkHtml = 'Like what you see? Visit the ' +\n",
              "          '<a target=\"_blank\" href=https://colab.research.google.com/notebooks/data_table.ipynb>data table notebook</a>'\n",
              "          + ' to learn more about interactive tables.';\n",
              "        element.innerHTML = '';\n",
              "        dataTable['output_type'] = 'display_data';\n",
              "        await google.colab.output.renderOutput(dataTable, element);\n",
              "        const docLink = document.createElement('div');\n",
              "        docLink.innerHTML = docLinkHtml;\n",
              "        element.appendChild(docLink);\n",
              "      }\n",
              "    </script>\n",
              "  </div>\n",
              "\n",
              "\n",
              "<div id=\"df-79f0b711-b922-429d-9003-60d8e3e8e299\">\n",
              "  <button class=\"colab-df-quickchart\" onclick=\"quickchart('df-79f0b711-b922-429d-9003-60d8e3e8e299')\"\n",
              "            title=\"Suggest charts\"\n",
              "            style=\"display:none;\">\n",
              "\n",
              "<svg xmlns=\"http://www.w3.org/2000/svg\" height=\"24px\"viewBox=\"0 0 24 24\"\n",
              "     width=\"24px\">\n",
              "    <g>\n",
              "        <path d=\"M19 3H5c-1.1 0-2 .9-2 2v14c0 1.1.9 2 2 2h14c1.1 0 2-.9 2-2V5c0-1.1-.9-2-2-2zM9 17H7v-7h2v7zm4 0h-2V7h2v10zm4 0h-2v-4h2v4z\"/>\n",
              "    </g>\n",
              "</svg>\n",
              "  </button>\n",
              "\n",
              "<style>\n",
              "  .colab-df-quickchart {\n",
              "      --bg-color: #E8F0FE;\n",
              "      --fill-color: #1967D2;\n",
              "      --hover-bg-color: #E2EBFA;\n",
              "      --hover-fill-color: #174EA6;\n",
              "      --disabled-fill-color: #AAA;\n",
              "      --disabled-bg-color: #DDD;\n",
              "  }\n",
              "\n",
              "  [theme=dark] .colab-df-quickchart {\n",
              "      --bg-color: #3B4455;\n",
              "      --fill-color: #D2E3FC;\n",
              "      --hover-bg-color: #434B5C;\n",
              "      --hover-fill-color: #FFFFFF;\n",
              "      --disabled-bg-color: #3B4455;\n",
              "      --disabled-fill-color: #666;\n",
              "  }\n",
              "\n",
              "  .colab-df-quickchart {\n",
              "    background-color: var(--bg-color);\n",
              "    border: none;\n",
              "    border-radius: 50%;\n",
              "    cursor: pointer;\n",
              "    display: none;\n",
              "    fill: var(--fill-color);\n",
              "    height: 32px;\n",
              "    padding: 0;\n",
              "    width: 32px;\n",
              "  }\n",
              "\n",
              "  .colab-df-quickchart:hover {\n",
              "    background-color: var(--hover-bg-color);\n",
              "    box-shadow: 0 1px 2px rgba(60, 64, 67, 0.3), 0 1px 3px 1px rgba(60, 64, 67, 0.15);\n",
              "    fill: var(--button-hover-fill-color);\n",
              "  }\n",
              "\n",
              "  .colab-df-quickchart-complete:disabled,\n",
              "  .colab-df-quickchart-complete:disabled:hover {\n",
              "    background-color: var(--disabled-bg-color);\n",
              "    fill: var(--disabled-fill-color);\n",
              "    box-shadow: none;\n",
              "  }\n",
              "\n",
              "  .colab-df-spinner {\n",
              "    border: 2px solid var(--fill-color);\n",
              "    border-color: transparent;\n",
              "    border-bottom-color: var(--fill-color);\n",
              "    animation:\n",
              "      spin 1s steps(1) infinite;\n",
              "  }\n",
              "\n",
              "  @keyframes spin {\n",
              "    0% {\n",
              "      border-color: transparent;\n",
              "      border-bottom-color: var(--fill-color);\n",
              "      border-left-color: var(--fill-color);\n",
              "    }\n",
              "    20% {\n",
              "      border-color: transparent;\n",
              "      border-left-color: var(--fill-color);\n",
              "      border-top-color: var(--fill-color);\n",
              "    }\n",
              "    30% {\n",
              "      border-color: transparent;\n",
              "      border-left-color: var(--fill-color);\n",
              "      border-top-color: var(--fill-color);\n",
              "      border-right-color: var(--fill-color);\n",
              "    }\n",
              "    40% {\n",
              "      border-color: transparent;\n",
              "      border-right-color: var(--fill-color);\n",
              "      border-top-color: var(--fill-color);\n",
              "    }\n",
              "    60% {\n",
              "      border-color: transparent;\n",
              "      border-right-color: var(--fill-color);\n",
              "    }\n",
              "    80% {\n",
              "      border-color: transparent;\n",
              "      border-right-color: var(--fill-color);\n",
              "      border-bottom-color: var(--fill-color);\n",
              "    }\n",
              "    90% {\n",
              "      border-color: transparent;\n",
              "      border-bottom-color: var(--fill-color);\n",
              "    }\n",
              "  }\n",
              "</style>\n",
              "\n",
              "  <script>\n",
              "    async function quickchart(key) {\n",
              "      const quickchartButtonEl =\n",
              "        document.querySelector('#' + key + ' button');\n",
              "      quickchartButtonEl.disabled = true;  // To prevent multiple clicks.\n",
              "      quickchartButtonEl.classList.add('colab-df-spinner');\n",
              "      try {\n",
              "        const charts = await google.colab.kernel.invokeFunction(\n",
              "            'suggestCharts', [key], {});\n",
              "      } catch (error) {\n",
              "        console.error('Error during call to suggestCharts:', error);\n",
              "      }\n",
              "      quickchartButtonEl.classList.remove('colab-df-spinner');\n",
              "      quickchartButtonEl.classList.add('colab-df-quickchart-complete');\n",
              "    }\n",
              "    (() => {\n",
              "      let quickchartButtonEl =\n",
              "        document.querySelector('#df-79f0b711-b922-429d-9003-60d8e3e8e299 button');\n",
              "      quickchartButtonEl.style.display =\n",
              "        google.colab.kernel.accessAllowed ? 'block' : 'none';\n",
              "    })();\n",
              "  </script>\n",
              "</div>\n",
              "    </div>\n",
              "  </div>\n"
            ]
          },
          "metadata": {},
          "execution_count": 17
        }
      ]
    },
    {
      "cell_type": "code",
      "source": [
        "beat_frames"
      ],
      "metadata": {
        "colab": {
          "base_uri": "https://localhost:8080/"
        },
        "id": "hk3UXaoF5xRB",
        "outputId": "94285b4a-8f9e-43e9-fe35-08635a679514"
      },
      "execution_count": 65,
      "outputs": [
        {
          "output_type": "execute_result",
          "data": {
            "text/plain": [
              "array([ 325,  343,  361,  379,  397,  415,  433,  451,  469,  487,  505,\n",
              "        522,  541,  558,  577,  594,  613,  630,  648,  666,  684,  702,\n",
              "        720,  738,  756,  774,  792,  810,  828,  845,  863,  882,  900,\n",
              "        918,  935,  953,  971,  989, 1007, 1025, 1043, 1061, 1079, 1097,\n",
              "       1115, 1133, 1151, 1169, 1187, 1205, 1222, 1240, 1258, 1276, 1294,\n",
              "       1312, 1330, 1348, 1366, 1384, 1402, 1420, 1438, 1455, 1473, 1491,\n",
              "       1510, 1528, 1546, 1564, 1582, 1599, 1617, 1635, 1653, 1671, 1689,\n",
              "       1707, 1725, 1743, 1761, 1779, 1797, 1815, 1833, 1851, 1869, 1886,\n",
              "       1904, 1922, 1940, 1958, 1976, 1994, 2012, 2030, 2049, 2067, 2085,\n",
              "       2103, 2120, 2138, 2156, 2174, 2192, 2210, 2227, 2246, 2264, 2282,\n",
              "       2300, 2317, 2335, 2353, 2371, 2389, 2407, 2425, 2443, 2461, 2479,\n",
              "       2497, 2515, 2533, 2551, 2568, 2586, 2604, 2622, 2640, 2658, 2676,\n",
              "       2694, 2712, 2730, 2748, 2766, 2784, 2802, 2819, 2838, 2856, 2873,\n",
              "       2891, 2909, 2927, 2945, 2963, 2981, 2999, 3017, 3035, 3053, 3071,\n",
              "       3089, 3107, 3125, 3143, 3161, 3178, 3196, 3214, 3232, 3250, 3268,\n",
              "       3286, 3304, 3322, 3340, 3358, 3376, 3394, 3412, 3430, 3448, 3466,\n",
              "       3484, 3502, 3519, 3537, 3555, 3573, 3591, 3609, 3627, 3645, 3663,\n",
              "       3681, 3699, 3717, 3735, 3753, 3771, 3789, 3807, 3825, 3843, 3861,\n",
              "       3878, 3896, 3914, 3932, 3950, 3968, 3986, 4004, 4022, 4040, 4058,\n",
              "       4076, 4094, 4112, 4130, 4148, 4166, 4183, 4201, 4219, 4237, 4255,\n",
              "       4273, 4291, 4309, 4327, 4344, 4362, 4380, 4399, 4417, 4435, 4453,\n",
              "       4471, 4489, 4507, 4526, 4544, 4562, 4579, 4597, 4614, 4632, 4649,\n",
              "       4666, 4684, 4702, 4720, 4739, 4757, 4776, 4795, 4813, 4831, 4848,\n",
              "       4865, 4883, 4901, 4919, 4937, 4955, 4972, 4990, 5008, 5027, 5045,\n",
              "       5063, 5081, 5099, 5116, 5134, 5152, 5170, 5188, 5206, 5224, 5242,\n",
              "       5260, 5278, 5296, 5314, 5332, 5350, 5368, 5386, 5403, 5422, 5440,\n",
              "       5458, 5476, 5494, 5511, 5529, 5547, 5565, 5583, 5601, 5619, 5637,\n",
              "       5655, 5673, 5691, 5709, 5727, 5745, 5763, 5781, 5799, 5817, 5834,\n",
              "       5852, 5870, 5888, 5906, 5924, 5942, 5960, 5978, 5996, 6014, 6032,\n",
              "       6050, 6068, 6086, 6104])"
            ]
          },
          "metadata": {},
          "execution_count": 65
        }
      ]
    },
    {
      "cell_type": "code",
      "source": [
        "beat_frames"
      ],
      "metadata": {
        "colab": {
          "base_uri": "https://localhost:8080/"
        },
        "id": "avbPy2v79acq",
        "outputId": "92800ade-e35e-4fd8-9653-c0caa5d9e517"
      },
      "execution_count": 32,
      "outputs": [
        {
          "output_type": "execute_result",
          "data": {
            "text/plain": [
              "array([ 437,  466,  494,  522,  550,  579,  606,  634,  662,  691,  719,\n",
              "        747,  775,  803,  831,  859,  887,  915,  943,  972, 1000, 1028,\n",
              "       1056, 1084, 1112, 1140, 1168, 1196, 1224, 1253, 1280, 1309, 1337,\n",
              "       1365, 1393, 1421, 1449, 1477, 1505, 1533, 1561, 1590, 1617, 1646,\n",
              "       1673, 1702, 1730, 1758, 1786, 1814, 1842, 1871, 1898, 1926, 1954,\n",
              "       1983, 2011, 2039, 2067, 2095, 2123, 2151, 2179, 2207, 2235, 2264,\n",
              "       2292, 2320, 2348, 2376, 2404, 2432, 2460, 2488, 2516, 2545, 2572,\n",
              "       2601, 2629, 2657, 2685, 2713, 2741, 2769, 2797, 2825, 2853, 2881,\n",
              "       2909, 2938, 2966, 2994, 3022, 3050, 3078, 3106, 3134, 3162, 3191,\n",
              "       3219, 3246, 3275, 3303, 3331, 3359, 3387, 3415, 3443, 3471, 3499,\n",
              "       3527, 3555, 3583, 3612, 3640, 3668, 3696, 3724, 3752, 3780, 3808,\n",
              "       3836, 3864, 3893, 3920, 3949, 3977, 4005, 4033, 4061, 4089, 4118,\n",
              "       4145, 4174, 4201, 4230, 4257, 4286, 4314, 4342, 4370, 4398, 4426,\n",
              "       4454, 4482, 4511, 4538, 4567, 4595, 4623, 4651, 4679, 4707, 4735,\n",
              "       4763, 4791, 4819, 4848, 4875, 4903, 4932, 4960, 4988, 5016, 5044,\n",
              "       5072, 5100, 5128, 5156, 5185, 5212, 5241, 5269, 5297, 5325, 5353,\n",
              "       5381, 5409, 5437, 5466, 5493, 5522, 5550, 5578, 5606, 5634, 5662,\n",
              "       5691, 5718, 5746, 5774, 5803, 5831, 5859, 5887, 5915, 5943, 5971,\n",
              "       5999, 6027, 6055, 6084, 6111, 6139, 6167, 6196, 6224, 6252, 6280,\n",
              "       6308, 6336, 6364, 6392, 6421, 6448, 6477, 6505, 6533, 6561, 6589,\n",
              "       6617, 6645, 6673, 6701, 6729, 6758, 6786, 6814, 6842, 6870, 6898,\n",
              "       6926, 6954, 6982, 7010, 7038, 7066, 7095, 7123, 7151, 7179, 7207,\n",
              "       7235, 7263, 7291, 7319, 7347, 7375, 7403, 7432, 7460, 7488, 7516,\n",
              "       7544, 7572, 7600, 7628, 7656, 7684, 7713, 7741, 7769, 7797, 7825,\n",
              "       7853, 7881, 7909, 7937, 7965, 7993, 8021, 8049, 8077, 8105, 8132,\n",
              "       8160, 8188, 8217, 8246, 8274, 8302, 8330, 8359, 8387, 8415, 8443,\n",
              "       8471, 8499, 8527, 8555, 8583, 8611, 8639, 8667, 8695, 8724, 8752,\n",
              "       8780, 8808, 8836, 8864, 8892, 8920, 8948, 8976, 9004, 9032, 9061,\n",
              "       9089, 9117, 9145, 9173, 9201, 9229, 9257, 9285, 9313, 9342, 9369,\n",
              "       9398])"
            ]
          },
          "metadata": {},
          "execution_count": 32
        }
      ]
    },
    {
      "cell_type": "code",
      "source": [
        "sum = 0\n",
        "for i in range(len(beat_frames) - 1):\n",
        "  sum += beat_frames[i+1] - beat_frames[i]\n",
        "\n",
        "avg = sum / len(beat_frames)\n"
      ],
      "metadata": {
        "id": "5SWoOW1P_dI5"
      },
      "execution_count": 66,
      "outputs": []
    },
    {
      "cell_type": "code",
      "source": [
        "avg"
      ],
      "metadata": {
        "colab": {
          "base_uri": "https://localhost:8080/"
        },
        "id": "0tg8RgV9_xjb",
        "outputId": "2dae3059-a2da-48e7-f473-c8ceddc9d66d"
      },
      "execution_count": 67,
      "outputs": [
        {
          "output_type": "execute_result",
          "data": {
            "text/plain": [
              "17.891640866873065"
            ]
          },
          "metadata": {},
          "execution_count": 67
        }
      ]
    }
  ]
}